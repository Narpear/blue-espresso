{
 "cells": [
  {
   "cell_type": "code",
   "execution_count": 8,
   "metadata": {},
   "outputs": [],
   "source": [
    "#regular expression, inbuilt module\n",
    "import re "
   ]
  },
  {
   "cell_type": "code",
   "execution_count": 9,
   "metadata": {},
   "outputs": [],
   "source": [
    "chat1 =  r\"this is my phone number 1234567890, and this is my email id prer123@gmail.com\"\n",
    "chat2 =  r\"here's my phone number 123-345-1234, and here's my email id prer123@gmail.com\"\n",
    "chat3 =  r\"omg take my phone number, already T_T (123)-345-1534. and my email prer123@gmail.com\""
   ]
  },
  {
   "cell_type": "code",
   "execution_count": 10,
   "metadata": {},
   "outputs": [
    {
     "name": "stdout",
     "output_type": "stream",
     "text": [
      "['1234567890'] ['123-345-1234'] ['(123)-345-1534']\n"
     ]
    }
   ],
   "source": [
    "phno_pattern = \"\\(\\d{3}\\)-{0,1}\\d{3}-{0,1}\\d{0,4}|\\d{10}|\\d{3}-\\d{3}-\\d{4}\"\n",
    "phno_matches1 = re.findall(phno_pattern, chat1)\n",
    "phno_matches2 = re.findall(phno_pattern, chat2)\n",
    "phno_matches3 = re.findall(phno_pattern, chat3)\n",
    "print(phno_matches1, phno_matches2, phno_matches3)"
   ]
  },
  {
   "cell_type": "code",
   "execution_count": 12,
   "metadata": {},
   "outputs": [
    {
     "name": "stdout",
     "output_type": "stream",
     "text": [
      "['prer123@gmail.com'] ['prer123@gmail.com'] ['prer123@gmail.com']\n"
     ]
    }
   ],
   "source": [
    "email_pattern = \"[a-zA-Z0-9_.]+@[a-zA-Z0-9_]+\\.com\"\n",
    "email_matches1 = re.findall(email_pattern, chat1)\n",
    "email_matches2 = re.findall(email_pattern, chat2)\n",
    "email_matches3 = re.findall(email_pattern, chat3)\n",
    "print(email_matches1, email_matches2, email_matches3)"
   ]
  }
 ],
 "metadata": {
  "kernelspec": {
   "display_name": "base",
   "language": "python",
   "name": "python3"
  },
  "language_info": {
   "codemirror_mode": {
    "name": "ipython",
    "version": 3
   },
   "file_extension": ".py",
   "mimetype": "text/x-python",
   "name": "python",
   "nbconvert_exporter": "python",
   "pygments_lexer": "ipython3",
   "version": "3.11.5"
  }
 },
 "nbformat": 4,
 "nbformat_minor": 2
}
